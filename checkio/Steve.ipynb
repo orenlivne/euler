{
 "metadata": {
  "name": "",
  "signature": "sha256:469640c9fe67f32bd251a2452a5be60fade304687c8be0cf57eb8e2af2ca8a67"
 },
 "nbformat": 3,
 "nbformat_minor": 0,
 "worksheets": [
  {
   "cells": [
    {
     "cell_type": "code",
     "collapsed": false,
     "input": [
      "def ends_with_other(s):\n",
      "    for x in s:\n",
      "        for y in s:\n",
      "            if x != y and x.endswith(y):\n",
      "                return True\n",
      "    return False\n",
      "\n",
      "print ends_with_other(set(['hello', 'lo', 'steve']))"
     ],
     "language": "python",
     "metadata": {},
     "outputs": [
      {
       "output_type": "stream",
       "stream": "stdout",
       "text": [
        "True\n"
       ]
      }
     ],
     "prompt_number": 3
    },
    {
     "cell_type": "code",
     "collapsed": false,
     "input": [
      "def ends_with_other(s):\n",
      "    t = sorted(x[-1::-1] for x in s)\n",
      "    return any(t[i+1].startswith(t[i]) for i in xrange(len(s)-1))\n",
      "\n",
      "print ends_with_other(set(['hello', 'lo', 'steve']))\n",
      "print ends_with_other(set(['hello', 'lo', 'steve', 'llo']))\n",
      "print ends_with_other(set(['beauty', 'girls', 'steve', 'cy']))"
     ],
     "language": "python",
     "metadata": {},
     "outputs": [
      {
       "output_type": "stream",
       "stream": "stdout",
       "text": [
        "True\n",
        "True\n",
        "False\n"
       ]
      }
     ],
     "prompt_number": 10
    },
    {
     "cell_type": "code",
     "collapsed": false,
     "input": [
      "class Graph(object):\n",
      "    def __init__(self, edge_list):\n",
      "        self.nbhrs = dict()\n",
      "        for\tedge in\tedge_list: self.add_edge(edge[0], edge[1])\n",
      "\n",
      "    def add_edge(self, u, v):\n",
      "        self.nbhrs.setdefault(u, set([])).add(v)\n",
      "        self.nbhrs.setdefault(v, set([])).add(u)\n",
      "\n",
      "    def print_edges(self):\n",
      "        print 'Graph edges:'\n",
      "        for\tu in self.nbhrs:\n",
      "            for v\tin self.nbhrs[u]:\n",
      "                print u, v\n",
      "\n",
      "def one_digit_apart(x,y):\n",
      "    return sum(xi != yi for xi, yi in zip(x,y)) == 1\n",
      "                \n",
      "if __name__ == '__main__':\n",
      "    t = ['121', '123', '125', '993', '991']\n",
      "    edges = [(x,y) for x in t for y in t if x < y and one_digit_apart(x,y)]\n",
      "    print edges\n",
      "    g = Graph(edges)\n",
      "#    g.print_edges()\n"
     ],
     "language": "python",
     "metadata": {},
     "outputs": [
      {
       "output_type": "stream",
       "stream": "stdout",
       "text": [
        "[('121', '123'), ('121', '125'), ('123', '125'), ('991', '993')]\n",
        "Graph edges:\n",
        "121 123\n",
        "121 125\n",
        "123 121\n",
        "123 125\n",
        "991 993\n",
        "125 121\n",
        "125 123\n",
        "993 991\n"
       ]
      }
     ],
     "prompt_number": 42
    },
    {
     "cell_type": "code",
     "collapsed": false,
     "input": [
      "class Game(object):\n",
      "    def __init__(self, board):\n",
      "        self.board = board\n",
      "\n",
      "    def row(self, i):\n",
      "        return self.board[i]\n",
      "\n",
      "    def col(self, j):\n",
      "        return [self.board[i][j] for i in xrange(len(self.board))]\n",
      "\n",
      "    def diag1(self):\n",
      "        return [self.board[i][i] for i in xrange(len(self.board))]\n",
      "\n",
      "    def diag2(self):\n",
      "        n = len(self.board)\n",
      "        return [self.board[i][n-1-i] for i in xrange(n)]\n",
      "\n",
      "    def line_winner(self, line):\n",
      "        return line[0] if all(line[i] == line[i+1] for i in xrange(len(line)-1)) and line[0] != '.' else '.'\n",
      "\n",
      "    def winner(self):\n",
      "        for i in xrange(len(self.board)):\n",
      "            w = self.line_winner(self.row(i))\n",
      "            if w != '.': return w\n",
      "        for j in xrange(len(self.board[0])):\n",
      "            w = self.line_winner(self.col(j))\n",
      "            if w != '.': return w\n",
      "        for d  in [self.diag1(), self.diag2()]:\n",
      "            w = self.line_winner(d)\n",
      "            if w != '.': return w\n",
      "        return 'D'\n",
      "\n",
      "def checkio(game_result):\n",
      "    return Game(game_result).winner()\n",
      "\n",
      "if __name__ == '__main__':\n",
      "    print checkio([\"OOX\",\"XXO\",\"OXX\"])\n",
      " "
     ],
     "language": "python",
     "metadata": {},
     "outputs": [
      {
       "output_type": "stream",
       "stream": "stdout",
       "text": [
        "D\n"
       ]
      }
     ],
     "prompt_number": 51
    },
    {
     "cell_type": "code",
     "collapsed": false,
     "input": [],
     "language": "python",
     "metadata": {},
     "outputs": []
    }
   ],
   "metadata": {}
  }
 ]
}